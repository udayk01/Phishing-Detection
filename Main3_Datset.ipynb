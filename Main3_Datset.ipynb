{
  "nbformat": 4,
  "nbformat_minor": 0,
  "metadata": {
    "colab": {
      "provenance": [],
      "gpuType": "T4"
    },
    "kernelspec": {
      "name": "python3",
      "display_name": "Python 3"
    },
    "language_info": {
      "name": "python"
    },
    "accelerator": "GPU"
  },
  "cells": [
    {
      "cell_type": "code",
      "execution_count": null,
      "metadata": {
        "colab": {
          "base_uri": "https://localhost:8080/"
        },
        "id": "WU8sFPkpta9u",
        "outputId": "9ee5d889-f361-4307-e07a-060dfd279beb"
      },
      "outputs": [
        {
          "output_type": "stream",
          "name": "stderr",
          "text": [
            "/usr/local/lib/python3.11/dist-packages/xgboost/core.py:158: UserWarning: [04:27:30] WARNING: /workspace/src/learner.cc:740: \n",
            "Parameters: { \"use_label_encoder\" } are not used.\n",
            "\n",
            "  warnings.warn(smsg, UserWarning)\n"
          ]
        },
        {
          "output_type": "stream",
          "name": "stdout",
          "text": [
            "Accuracy: 0.95\n"
          ]
        },
        {
          "output_type": "execute_result",
          "data": {
            "text/plain": [
              "['xgboost_phishing_model.pkl']"
            ]
          },
          "metadata": {},
          "execution_count": 2
        }
      ],
      "source": [
        "import pandas as pd\n",
        "import xgboost as xgb\n",
        "from sklearn.model_selection import train_test_split\n",
        "from sklearn.metrics import accuracy_score\n",
        "\n",
        "# Load dataset\n",
        "df = pd.read_csv(\"/content/updated_dataset.csv\")\n",
        "\n",
        "# Define features and target\n",
        "feature_columns = [\"ip\", \"nb_qm\", \"nb_www\", \"ratio_digits_url\", \"phish_hints\",\n",
        "                   \"nb_hyperlinks\", \"domain_in_title\", \"domain_age\",\n",
        "                   \"google_index\", \"page_rank\"]\n",
        "X = df[feature_columns]\n",
        "y = df[\"label\"]  # 0 = benign, 1 = phishing\n",
        "\n",
        "# Split dataset\n",
        "X_train, X_test, y_train, y_test = train_test_split(X, y, test_size=0.2, random_state=42)\n",
        "\n",
        "# Train XGBoost model\n",
        "model = xgb.XGBClassifier(use_label_encoder=False, eval_metric=\"logloss\")\n",
        "model.fit(X_train, y_train)\n",
        "\n",
        "# Evaluate model\n",
        "y_pred = model.predict(X_test)\n",
        "print(f\"Accuracy: {accuracy_score(y_test, y_pred):.2f}\")\n",
        "\n",
        "# Save model\n",
        "import joblib\n",
        "joblib.dump(model, \"xgboost_phishing_model.pkl\")\n"
      ]
    },
    {
      "cell_type": "code",
      "source": [
        "!pip install lime\n"
      ],
      "metadata": {
        "colab": {
          "base_uri": "https://localhost:8080/"
        },
        "id": "1uK8hEXfw1TW",
        "outputId": "97c623e6-48c2-40b9-99f7-0357e8d2a1c4"
      },
      "execution_count": null,
      "outputs": [
        {
          "output_type": "stream",
          "name": "stdout",
          "text": [
            "Collecting lime\n",
            "  Downloading lime-0.2.0.1.tar.gz (275 kB)\n",
            "\u001b[?25l     \u001b[90m━━━━━━━━━━━━━━━━━━━━━━━━━━━━━━━━━━━━━━━━\u001b[0m \u001b[32m0.0/275.7 kB\u001b[0m \u001b[31m?\u001b[0m eta \u001b[36m-:--:--\u001b[0m\r\u001b[2K     \u001b[90m━━━━━━━━━━━━━━━━━━━━━━━━━━━━━━━━━━━━━━━━\u001b[0m \u001b[32m275.7/275.7 kB\u001b[0m \u001b[31m8.4 MB/s\u001b[0m eta \u001b[36m0:00:00\u001b[0m\n",
            "\u001b[?25h  Preparing metadata (setup.py) ... \u001b[?25l\u001b[?25hdone\n",
            "Requirement already satisfied: matplotlib in /usr/local/lib/python3.11/dist-packages (from lime) (3.10.0)\n",
            "Requirement already satisfied: numpy in /usr/local/lib/python3.11/dist-packages (from lime) (1.26.4)\n",
            "Requirement already satisfied: scipy in /usr/local/lib/python3.11/dist-packages (from lime) (1.13.1)\n",
            "Requirement already satisfied: tqdm in /usr/local/lib/python3.11/dist-packages (from lime) (4.67.1)\n",
            "Requirement already satisfied: scikit-learn>=0.18 in /usr/local/lib/python3.11/dist-packages (from lime) (1.6.1)\n",
            "Requirement already satisfied: scikit-image>=0.12 in /usr/local/lib/python3.11/dist-packages (from lime) (0.25.1)\n",
            "Requirement already satisfied: networkx>=3.0 in /usr/local/lib/python3.11/dist-packages (from scikit-image>=0.12->lime) (3.4.2)\n",
            "Requirement already satisfied: pillow>=10.1 in /usr/local/lib/python3.11/dist-packages (from scikit-image>=0.12->lime) (11.1.0)\n",
            "Requirement already satisfied: imageio!=2.35.0,>=2.33 in /usr/local/lib/python3.11/dist-packages (from scikit-image>=0.12->lime) (2.37.0)\n",
            "Requirement already satisfied: tifffile>=2022.8.12 in /usr/local/lib/python3.11/dist-packages (from scikit-image>=0.12->lime) (2025.1.10)\n",
            "Requirement already satisfied: packaging>=21 in /usr/local/lib/python3.11/dist-packages (from scikit-image>=0.12->lime) (24.2)\n",
            "Requirement already satisfied: lazy-loader>=0.4 in /usr/local/lib/python3.11/dist-packages (from scikit-image>=0.12->lime) (0.4)\n",
            "Requirement already satisfied: joblib>=1.2.0 in /usr/local/lib/python3.11/dist-packages (from scikit-learn>=0.18->lime) (1.4.2)\n",
            "Requirement already satisfied: threadpoolctl>=3.1.0 in /usr/local/lib/python3.11/dist-packages (from scikit-learn>=0.18->lime) (3.5.0)\n",
            "Requirement already satisfied: contourpy>=1.0.1 in /usr/local/lib/python3.11/dist-packages (from matplotlib->lime) (1.3.1)\n",
            "Requirement already satisfied: cycler>=0.10 in /usr/local/lib/python3.11/dist-packages (from matplotlib->lime) (0.12.1)\n",
            "Requirement already satisfied: fonttools>=4.22.0 in /usr/local/lib/python3.11/dist-packages (from matplotlib->lime) (4.56.0)\n",
            "Requirement already satisfied: kiwisolver>=1.3.1 in /usr/local/lib/python3.11/dist-packages (from matplotlib->lime) (1.4.8)\n",
            "Requirement already satisfied: pyparsing>=2.3.1 in /usr/local/lib/python3.11/dist-packages (from matplotlib->lime) (3.2.1)\n",
            "Requirement already satisfied: python-dateutil>=2.7 in /usr/local/lib/python3.11/dist-packages (from matplotlib->lime) (2.8.2)\n",
            "Requirement already satisfied: six>=1.5 in /usr/local/lib/python3.11/dist-packages (from python-dateutil>=2.7->matplotlib->lime) (1.17.0)\n",
            "Building wheels for collected packages: lime\n",
            "  Building wheel for lime (setup.py) ... \u001b[?25l\u001b[?25hdone\n",
            "  Created wheel for lime: filename=lime-0.2.0.1-py3-none-any.whl size=283834 sha256=9153fc4cff4f75241c3b9feef6eee2f47ae4390ab60f468070d5022783c0fd3d\n",
            "  Stored in directory: /root/.cache/pip/wheels/85/fa/a3/9c2d44c9f3cd77cf4e533b58900b2bf4487f2a17e8ec212a3d\n",
            "Successfully built lime\n",
            "Installing collected packages: lime\n",
            "Successfully installed lime-0.2.0.1\n"
          ]
        }
      ]
    },
    {
      "cell_type": "code",
      "source": [
        "import pandas as pd\n",
        "import lime.lime_tabular\n",
        "import numpy as np\n",
        "import joblib\n",
        "\n",
        "# Load dataset\n",
        "df = pd.read_csv(\"/content/updated_dataset.csv\")\n",
        "\n",
        "# Load trained model\n",
        "model = joblib.load(\"/content/xgboost_phishing_model.pkl\")\n",
        "\n",
        "# Define feature columns\n",
        "feature_columns = [\"ip\", \"nb_qm\", \"nb_www\", \"ratio_digits_url\", \"phish_hints\",\n",
        "                   \"nb_hyperlinks\", \"domain_in_title\", \"domain_age\",\n",
        "                   \"google_index\", \"page_rank\"]\n",
        "X = df[feature_columns]\n",
        "\n",
        "# Initialize LIME Explainer\n",
        "explainer = lime.lime_tabular.LimeTabularExplainer(\n",
        "    X.values,\n",
        "    feature_names=feature_columns,\n",
        "    class_names=['Benign', 'Phishing'],\n",
        "    mode=\"classification\"\n",
        ")\n",
        "\n",
        "# Function to convert LIME explanation into readable text\n",
        "def generate_text_explanation(lime_explanation):\n",
        "    explanation_text = []\n",
        "\n",
        "    for feature, effect in lime_explanation:\n",
        "        if \"ip\" in feature:\n",
        "            explanation_text.append(\"The presence of an IP address in the URL increases the likelihood of phishing.\")\n",
        "        elif \"nb_qm\" in feature:\n",
        "            explanation_text.append(\"A high number of question marks in the URL suggests suspicious activity.\")\n",
        "        elif \"nb_www\" in feature:\n",
        "            explanation_text.append(\"The occurrence of 'www' in an unusual place within the URL may indicate phishing.\")\n",
        "        elif \"ratio_digits_url\" in feature:\n",
        "            explanation_text.append(\"A high proportion of digits in the URL is often associated with phishing websites.\")\n",
        "        elif \"phish_hints\" in feature:\n",
        "            explanation_text.append(\"Certain words in the URL, commonly used in phishing attacks, increase the risk of being a phishing site.\")\n",
        "        elif \"nb_hyperlinks\" in feature:\n",
        "            explanation_text.append(\"An unusually high number of hyperlinks on the page may suggest phishing behavior.\")\n",
        "        elif \"domain_in_title\" in feature:\n",
        "            explanation_text.append(\"If the domain name is present in the page title, it is less likely to be phishing.\")\n",
        "        elif \"domain_age\" in feature:\n",
        "            explanation_text.append(\"A newly registered domain is more likely to be used for phishing.\")\n",
        "        elif \"google_index\" in feature:\n",
        "            explanation_text.append(\"If Google has indexed the site, it is more likely to be legitimate.\")\n",
        "        elif \"page_rank\" in feature:\n",
        "            explanation_text.append(\"A higher page rank generally indicates a more trustworthy website.\")\n",
        "\n",
        "    return \" \".join(explanation_text)\n",
        "\n",
        "# Generate explanations for each row\n",
        "explanations = []\n",
        "for i in range(len(X)):\n",
        "    exp = explainer.explain_instance(X.iloc[i].values, model.predict_proba, num_features=5)\n",
        "    readable_explanation = generate_text_explanation(exp.as_list())\n",
        "    explanations.append(readable_explanation)\n",
        "\n",
        "# Add explanations to dataset\n",
        "df[\"lime_explanation\"] = explanations\n",
        "\n",
        "# Save the updated dataset\n",
        "df.to_csv(\"dataset_with_readable_explanations.csv\", index=False)\n"
      ],
      "metadata": {
        "id": "-MMRPN80wtve"
      },
      "execution_count": null,
      "outputs": []
    }
  ]
}